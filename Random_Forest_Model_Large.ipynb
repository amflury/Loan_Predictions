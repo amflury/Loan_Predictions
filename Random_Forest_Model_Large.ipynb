{
 "cells": [
  {
   "cell_type": "code",
   "execution_count": null,
   "metadata": {},
   "outputs": [],
   "source": [
    "import pandas as pd\n",
    "import matplotlib.pyplot as plt\n",
    "import numpy as np"
   ]
  },
  {
   "cell_type": "code",
   "execution_count": null,
   "metadata": {},
   "outputs": [],
   "source": [
    "file = \"datasets/loan_data.csv\"\n",
    "loan_data = pd.read_csv(file)\n",
    "loan_data.head()"
   ]
  },
  {
   "cell_type": "code",
   "execution_count": null,
   "metadata": {},
   "outputs": [],
   "source": [
    "target = loan_data[\"not.fully.paid\"]\n",
    "target_names = [\"negative\", \"positive\"]"
   ]
  },
  {
   "cell_type": "code",
   "execution_count": null,
   "metadata": {},
   "outputs": [],
   "source": [
    "data = loan_data.drop([\"not.fully.paid\", \"purpose\", \"days.with.cr.line\"], axis =1)\n",
    "feature_names = data.columns\n",
    "data.head()"
   ]
  },
  {
   "cell_type": "code",
   "execution_count": null,
   "metadata": {},
   "outputs": [],
   "source": [
    "from sklearn.model_selection import train_test_split\n",
    "X_train, X_test, y_train, y_test = train_test_split(data, target, random_state=42)"
   ]
  },
  {
   "cell_type": "code",
   "execution_count": null,
   "metadata": {},
   "outputs": [],
   "source": [
    "from sklearn.ensemble import RandomForestClassifier\n",
    "#for n in range(100, 1000, 50):\n",
    "rf = RandomForestClassifier(n_estimators= 200)\n",
    "rf = rf.fit(X_train, y_train)\n",
    "print(rf.score(X_test, y_test))\n",
    "estimator = rf.estimators_[5]"
   ]
  },
  {
   "cell_type": "code",
   "execution_count": null,
   "metadata": {},
   "outputs": [],
   "source": [
    "sorted(zip(rf.feature_importances_, feature_names), reverse=True)\n",
    "sizes = rf.feature_importances_\n",
    "labels = feature_names\n",
    "explode = [0, 0, .1, 0, 0, 0, 0, 0, 0, 0, 0]\n",
    "\n",
    "fig1, ax1 = plt.subplots()\n",
    "ax1.pie(sizes, explode=explode, labels=labels, \n",
    "        shadow=True, startangle=5)\n",
    "ax1.axis('equal')\n",
    "plt.show\n",
    "plt.title(\"Features of Importance Breakdown: Large Dataset\")\n",
    "# fig1.savefig('LargeDataPie.png')"
   ]
  },
  {
   "cell_type": "code",
   "execution_count": null,
   "metadata": {},
   "outputs": [],
   "source": [
    "# from sklearn.tree import export_graphviz"
   ]
  },
  {
   "cell_type": "code",
   "execution_count": null,
   "metadata": {},
   "outputs": [],
   "source": [
    "# export_graphviz(estimator, out_file='tree.dot', \n",
    "#                 feature_names = feature_names,\n",
    "#                 class_names = target_names,\n",
    "#                 rounded = True, proportion = False, \n",
    "#                 precision = 2, filled = True)"
   ]
  },
  {
   "cell_type": "code",
   "execution_count": null,
   "metadata": {},
   "outputs": [],
   "source": [
    "# from graphviz import render\n",
    "# png = render('dot', 'png', 'tree.dot')\n"
   ]
  },
  {
   "cell_type": "code",
   "execution_count": null,
   "metadata": {},
   "outputs": [],
   "source": [
    "# from IPython.display import Image\n",
    "# Image(filename = 'tree.dot.png')"
   ]
  },
  {
   "cell_type": "code",
   "execution_count": null,
   "metadata": {},
   "outputs": [],
   "source": [
    "from sklearn.metrics import classification_report\n",
    "predictions = rf.predict(X_test)\n",
    "data = classification_report(y_test, predictions,\n",
    "                            target_names=target_names)\n"
   ]
  },
  {
   "cell_type": "code",
   "execution_count": null,
   "metadata": {},
   "outputs": [],
   "source": [
    "# lines = data.split('\\n')\n",
    "# lines\n",
    "classes = []\n",
    "plot_data = []\n",
    "for line in lines[2:(len(lines) - 5)]:\n",
    "    value = line.split()\n",
    "    classes.append(value[0])\n",
    "    data = [float(x) for x in value[1:len(value)-1]]\n",
    "    plot_data.append(data)\n",
    "\n",
    "\n",
    "\n",
    "fig2, ax2 = plt.subplots()\n",
    "h = ax2.matshow(plot_data)\n",
    "fig2.colorbar(h)\n",
    "fig2.suptitle(\"Large Data Classification Scores\")\n",
    "ax2.set_ylabel('Outcomes')\n",
    "ax2.set_xlabel('Score Type')\n",
    "ax2.set_yticklabels(['', 'Negative', 'Positive'] )\n",
    "ax2.set_xticklabels(['', 'Precision', 'Recall', 'F1-Score'])\n",
    "for (i, j), z in np.ndenumerate(plot_data):\n",
    "    ax2.text(j, i, '{:0.3f}'.format(z), ha='center', va='center', color = \"white\")\n",
    "plt.show()\n",
    "fig2.savefig(\"LargeDataScores.png\")"
   ]
  },
  {
   "cell_type": "code",
   "execution_count": null,
   "metadata": {},
   "outputs": [],
   "source": []
  }
 ],
 "metadata": {
  "kernelspec": {
   "display_name": "Python 3",
   "language": "python",
   "name": "python3"
  },
  "language_info": {
   "codemirror_mode": {
    "name": "ipython",
    "version": 3
   },
   "file_extension": ".py",
   "mimetype": "text/x-python",
   "name": "python",
   "nbconvert_exporter": "python",
   "pygments_lexer": "ipython3",
   "version": "3.6.9"
  }
 },
 "nbformat": 4,
 "nbformat_minor": 2
}
